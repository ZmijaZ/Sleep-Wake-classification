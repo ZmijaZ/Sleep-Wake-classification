{
 "cells": [
  {
   "cell_type": "code",
   "execution_count": 143,
   "id": "444e3e48-e13f-473c-acbb-ccfa132a5e6c",
   "metadata": {},
   "outputs": [],
   "source": [
    "import pandas as pd\n",
    "import numpy as np"
   ]
  },
  {
   "cell_type": "code",
   "execution_count": null,
   "id": "5623ff53-3d4e-49e2-961f-fc8fc21259c2",
   "metadata": {},
   "outputs": [],
   "source": []
  },
  {
   "cell_type": "code",
   "execution_count": 144,
   "id": "8cc14ace-b1b5-4b84-b411-4ce0b47b66eb",
   "metadata": {},
   "outputs": [],
   "source": [
    "number_of_subjects = 23\n",
    "number_of_readings_per_subject = 1001"
   ]
  },
  {
   "cell_type": "code",
   "execution_count": null,
   "id": "e1821e1f-4a64-4408-bf0d-93ac79b48bc7",
   "metadata": {},
   "outputs": [],
   "source": []
  },
  {
   "cell_type": "code",
   "execution_count": 145,
   "id": "75855ab1-8614-4d19-b3f4-2e5069a276e4",
   "metadata": {},
   "outputs": [],
   "source": [
    "#generates random data points randomly ranging from 0.5 to 1 and returns an adequate pandas dataset\n",
    "def generate_random_data(number_of_subjects, points_per_subject):\n",
    "    dataset = np.zeros((number_of_subjects, points_per_subject))\n",
    "    for k in range(number_of_subjects):\n",
    "        for i in range(points_per_subject):\n",
    "            r_k_i = (np.random.random()+1)/2\n",
    "            dataset[k][i] = r_k_i\n",
    "\n",
    "    #set dataset column names (generic)\n",
    "    data_columns = [f\"r_{i}\" for i in range(points_per_subject)]\n",
    "    dataset = pd.DataFrame(dataset, columns = data_columns)\n",
    "    \n",
    "    return dataset"
   ]
  },
  {
   "cell_type": "code",
   "execution_count": 146,
   "id": "d9802604-5542-454d-b2f2-72202c153965",
   "metadata": {},
   "outputs": [],
   "source": [
    "dataset = generate_random_data(number_of_subjects, number_of_readings_per_subject)"
   ]
  },
  {
   "cell_type": "code",
   "execution_count": null,
   "id": "fbedc628-0d80-4985-8fb3-516806564d7a",
   "metadata": {},
   "outputs": [],
   "source": []
  },
  {
   "cell_type": "code",
   "execution_count": null,
   "id": "c1968282-5aaa-4464-8445-0c1aa61671f9",
   "metadata": {},
   "outputs": [],
   "source": []
  },
  {
   "cell_type": "code",
   "execution_count": null,
   "id": "d4997409-6cde-4504-9086-a11eea66f053",
   "metadata": {},
   "outputs": [],
   "source": []
  }
 ],
 "metadata": {
  "kernelspec": {
   "display_name": "Python 3 (ipykernel)",
   "language": "python",
   "name": "python3"
  },
  "language_info": {
   "codemirror_mode": {
    "name": "ipython",
    "version": 3
   },
   "file_extension": ".py",
   "mimetype": "text/x-python",
   "name": "python",
   "nbconvert_exporter": "python",
   "pygments_lexer": "ipython3",
   "version": "3.12.3"
  }
 },
 "nbformat": 4,
 "nbformat_minor": 5
}
