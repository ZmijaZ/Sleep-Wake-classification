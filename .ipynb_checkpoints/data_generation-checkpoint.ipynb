{
 "cells": [
  {
   "cell_type": "code",
   "execution_count": 98,
   "id": "444e3e48-e13f-473c-acbb-ccfa132a5e6c",
   "metadata": {},
   "outputs": [],
   "source": [
    "import pandas as pd\n",
    "import numpy as np\n",
    "from matplotlib import pyplot as plt\n",
    "from statistics import mean"
   ]
  },
  {
   "cell_type": "code",
   "execution_count": null,
   "id": "5623ff53-3d4e-49e2-961f-fc8fc21259c2",
   "metadata": {},
   "outputs": [],
   "source": []
  },
  {
   "cell_type": "code",
   "execution_count": 99,
   "id": "8cc14ace-b1b5-4b84-b411-4ce0b47b66eb",
   "metadata": {},
   "outputs": [],
   "source": [
    "number_of_subjects = 23\n",
    "number_of_readings_per_subject = 1001"
   ]
  },
  {
   "cell_type": "code",
   "execution_count": null,
   "id": "e1821e1f-4a64-4408-bf0d-93ac79b48bc7",
   "metadata": {},
   "outputs": [],
   "source": []
  },
  {
   "cell_type": "code",
   "execution_count": 102,
   "id": "75855ab1-8614-4d19-b3f4-2e5069a276e4",
   "metadata": {},
   "outputs": [],
   "source": [
    "def generate_random_value_point(probability):\n",
    "    if(np.random.random() > probability):\n",
    "        return np.nan\n",
    "    return (np.random.random()+1)/2\n",
    "\n",
    "#generates random data points randomly ranging from 0.5 to 1 and returns an adequate pandas dataset\n",
    "def generate_random_data(number_of_subjects, points_per_subject):\n",
    "    dataset = np.zeros((number_of_subjects, points_per_subject))\n",
    "    for k in range(number_of_subjects):\n",
    "        for i in range(points_per_subject):\n",
    "            r_k_i = generate_random_value_point(probability = 0.89)\n",
    "            dataset[k][i] = r_k_i\n",
    "\n",
    "    #set dataset column names (generic)\n",
    "    data_columns = [f\"r_{i}\" for i in range(points_per_subject)]\n",
    "    dataset = pd.DataFrame(dataset, columns = data_columns)\n",
    "    \n",
    "    return dataset"
   ]
  },
  {
   "cell_type": "code",
   "execution_count": 103,
   "id": "d9802604-5542-454d-b2f2-72202c153965",
   "metadata": {},
   "outputs": [],
   "source": [
    "#dataset = generate_random_data(number_of_subjects, number_of_readings_per_subject)\n",
    "#dataset.isna()"
   ]
  },
  {
   "cell_type": "code",
   "execution_count": 89,
   "id": "0351b7da-1983-4dab-8f5c-db39d1d0f789",
   "metadata": {},
   "outputs": [],
   "source": [
    "## determine wether or not the subject is asleep\n",
    "wake_status = [mean(dataset.iloc[k]) for k in range(number_of_subjects)]\n",
    "wake_status = [\"Awake\" if x > 0.75 else \"Asleep\" for x in wake_status]\n",
    "\n",
    "dataset[\"wake_status\"] = wake_status"
   ]
  },
  {
   "cell_type": "code",
   "execution_count": null,
   "id": "a8838acd-1249-4f73-bf57-31209ab3618f",
   "metadata": {},
   "outputs": [],
   "source": []
  },
  {
   "cell_type": "code",
   "execution_count": null,
   "id": "576b0b73-aec9-4782-af10-60be014009a4",
   "metadata": {},
   "outputs": [],
   "source": []
  }
 ],
 "metadata": {
  "kernelspec": {
   "display_name": "Python 3 (ipykernel)",
   "language": "python",
   "name": "python3"
  },
  "language_info": {
   "codemirror_mode": {
    "name": "ipython",
    "version": 3
   },
   "file_extension": ".py",
   "mimetype": "text/x-python",
   "name": "python",
   "nbconvert_exporter": "python",
   "pygments_lexer": "ipython3",
   "version": "3.12.3"
  }
 },
 "nbformat": 4,
 "nbformat_minor": 5
}
